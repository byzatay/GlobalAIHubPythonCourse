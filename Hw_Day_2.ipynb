{
  "nbformat": 4,
  "nbformat_minor": 0,
  "metadata": {
    "colab": {
      "name": "Hw-Day-2.ipynb",
      "provenance": [],
      "collapsed_sections": []
    },
    "kernelspec": {
      "name": "python3",
      "display_name": "Python 3"
    }
  },
  "cells": [
    {
      "cell_type": "markdown",
      "metadata": {
        "id": "HFdstKz0vBhi"
      },
      "source": [
        "Homework Day-2"
      ]
    },
    {
      "cell_type": "markdown",
      "metadata": {
        "id": "j0ZBQ7WDwsb4"
      },
      "source": [
        "First Part"
      ]
    },
    {
      "cell_type": "code",
      "metadata": {
        "id": "f6qPeaPsu6yd"
      },
      "source": [
        "list=[3,6,9,12,15,18,21,24]\r\n",
        "i=0\r\n",
        "while (i<4):\r\n",
        "  list.append(list[i])\r\n",
        "  i+=1\r\n",
        "del list[0:4]\r\n",
        "list"
      ],
      "execution_count": null,
      "outputs": []
    },
    {
      "cell_type": "markdown",
      "metadata": {
        "id": "ZRBbOlg1wrnq"
      },
      "source": [
        "Second Part"
      ]
    },
    {
      "cell_type": "code",
      "metadata": {
        "id": "9HITpQt0u7k1"
      },
      "source": [
        "n=int(input(\"Please enter a single digit integer: \"))\r\n",
        "if n>=10:\r\n",
        "  print(\"Invalid value.\")\r\n",
        "else:\r\n",
        "  for n in range(0,n+1):\r\n",
        "    if n%2==0:\r\n",
        "      print(n)"
      ],
      "execution_count": null,
      "outputs": []
    }
  ]
}