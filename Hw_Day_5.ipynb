{
  "nbformat": 4,
  "nbformat_minor": 0,
  "metadata": {
    "colab": {
      "name": "Hw_Day_5.ipynb",
      "provenance": []
    },
    "kernelspec": {
      "name": "python3",
      "display_name": "Python 3"
    }
  },
  "cells": [
    {
      "cell_type": "code",
      "metadata": {
        "id": "T3L4WRC-BYkG"
      },
      "source": [
        "class Animals:\r\n",
        "  def __init__(self,type,name,age,breed):\r\n",
        "    self.type=type\r\n",
        "    self.name=name\r\n",
        "    self.age=age\r\n",
        "    self.breed=breed\r\n",
        "  def print_type(self):\r\n",
        "    print(self.type)\r\n",
        "  def print_name(self):\r\n",
        "    print(self.name)\r\n",
        "  def print_age(self):\r\n",
        "    print(self.age)\r\n",
        "  def show_infos(self):\r\n",
        "    print(\"{} is {} years old. The breed of the {} is {}.\".format(self.name,self.age,self.type,self.breed))\r\n",
        "class Dogs(Animals):\r\n",
        "  pass\r\n",
        "dog=Dogs(\"dog\",\"Hav\",\"4\",\"Bulldog\")\r\n",
        "dog.show_infos()\r\n",
        "\r\n",
        "class Cats(Animals):\r\n",
        "  pass\r\n",
        "cat=Cats(\"cat\",\"Lady\",\"2\",\"Tuxedo\")\r\n",
        "cat.show_infos()"
      ],
      "execution_count": null,
      "outputs": []
    }
  ]
}