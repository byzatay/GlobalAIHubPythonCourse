{
  "nbformat": 4,
  "nbformat_minor": 0,
  "metadata": {
    "colab": {
      "name": "Hw-Day-3.ipynb",
      "provenance": []
    },
    "kernelspec": {
      "name": "python3",
      "display_name": "Python 3"
    }
  },
  "cells": [
    {
      "cell_type": "markdown",
      "metadata": {
        "id": "x1tMJVRMVEG-"
      },
      "source": [
        "Homework Day-3"
      ]
    },
    {
      "cell_type": "markdown",
      "metadata": {
        "id": "vR6Mdp0hVDsl"
      },
      "source": [
        "First Part"
      ]
    },
    {
      "cell_type": "code",
      "metadata": {
        "id": "Djzdy-2cO4Jt"
      },
      "source": [
        "Username=\"Python\"\r\n",
        "Password=\"TryAgain\"\r\n",
        "\r\n",
        "Username1=input(\"Please enter your user name: \")\r\n",
        "Password1=input(\"Please enter your password: \")\r\n",
        "\r\n",
        "if (Username!=Username1 and Password==Password1):\r\n",
        "    print(\"Invalid user name.\")\r\n",
        "elif (Username==Username1 and Password!=Password1):\r\n",
        "    print(\"Invalid password.\")\r\n",
        "elif (Username!=Username1 and Password!=Password1):\r\n",
        "    print(\"Invalid user name and password.\")\r\n",
        "else:\r\n",
        "    print(\"Successfully logged in.\")"
      ],
      "execution_count": null,
      "outputs": []
    },
    {
      "cell_type": "markdown",
      "metadata": {
        "id": "NH5OkQ1VVSqp"
      },
      "source": [
        "Second Part"
      ]
    },
    {
      "cell_type": "code",
      "metadata": {
        "id": "i-_E-xtgay_R"
      },
      "source": [
        "dictionary={'python':'2468'}\r\n",
        "\r\n",
        "username=input(\"Please enter your user name: \")\r\n",
        "password=input(\"Please enter your password: \")\r\n",
        "\r\n",
        "if username not in dictionary:\r\n",
        "  print(\"The user name does not exist.\")\r\n",
        "elif dictionary[username] !=password:\r\n",
        "  print(\"Invalid password\")\r\n",
        "elif dictionary[username]==password:\r\n",
        "  print(\"Successfully logged in.\")"
      ],
      "execution_count": null,
      "outputs": []
    }
  ]
}
