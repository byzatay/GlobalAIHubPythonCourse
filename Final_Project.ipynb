{
  "nbformat": 4,
  "nbformat_minor": 0,
  "metadata": {
    "colab": {
      "name": "Final_Project.ipynb",
      "provenance": []
    },
    "kernelspec": {
      "name": "python3",
      "display_name": "Python 3"
    }
  },
  "cells": [
    {
      "cell_type": "markdown",
      "metadata": {
        "id": "WrND3ig9Enzz"
      },
      "source": [
        "Final Project"
      ]
    },
    {
      "cell_type": "code",
      "metadata": {
        "id": "dy2nxD-MEil9"
      },
      "source": [
        "class manager:\r\n",
        "  def __init__(self,name,age,language):\r\n",
        "    self.name=name\r\n",
        "    self.age=age\r\n",
        "    self.language=language\r\n",
        "  def new_emp(self,name,age,language):\r\n",
        "    emp=Employees(name,age,language)\r\n",
        "  def language_details(self):\r\n",
        "    print(\"{} speaks this languages: {} \".format(self.name,self.language))  \r\n",
        "class employees(manager):\r\n",
        "  pass"
      ],
      "execution_count": 29,
      "outputs": []
    },
    {
      "cell_type": "code",
      "metadata": {
        "id": "4oTw83fXOHW2"
      },
      "source": [
        "Margareeta=employees(\"Margareeta\",\"25\",\"Spanish,English\")\r\n",
        "Margareeta.language_details()"
      ],
      "execution_count": null,
      "outputs": []
    },
    {
      "cell_type": "code",
      "metadata": {
        "id": "Q7DRB8j9P1lJ"
      },
      "source": [
        "Arturo=employees(\"Arturo\",\"22\",\"Italian,English,Russian,Greek\")\r\n",
        "Arturo.language_details()"
      ],
      "execution_count": null,
      "outputs": []
    },
    {
      "cell_type": "code",
      "metadata": {
        "id": "J1-DtjyXREB9"
      },
      "source": [
        "Kyouko=employees(\"Kyouko\",\"24\",\"Japanese,English,Portuguese\")\r\n",
        "Kyouko.language_details()"
      ],
      "execution_count": null,
      "outputs": []
    },
    {
      "cell_type": "code",
      "metadata": {
        "id": "xbJbbLWtREot"
      },
      "source": [
        "Aleyna=employees(\"Aleyna\",\"20\",\"Turkish,English,Korean,Latin\")\r\n",
        "Aleyna.language_details()"
      ],
      "execution_count": null,
      "outputs": []
    }
  ]
}