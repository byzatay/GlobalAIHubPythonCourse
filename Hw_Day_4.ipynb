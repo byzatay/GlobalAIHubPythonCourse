{
  "nbformat": 4,
  "nbformat_minor": 0,
  "metadata": {
    "colab": {
      "name": "Hw_Day_4.ipynb",
      "provenance": []
    },
    "kernelspec": {
      "name": "python3",
      "display_name": "Python 3"
    }
  },
  "cells": [
    {
      "cell_type": "markdown",
      "metadata": {
        "id": "bJUI-hfF-z2_"
      },
      "source": [
        "Homework Day-4"
      ]
    },
    {
      "cell_type": "code",
      "metadata": {
        "id": "Glp1mQAK-Joy"
      },
      "source": [
        "for num in range(0,100):  \r\n",
        "   if num > 1:  \r\n",
        "       for i in range(2,num):  \r\n",
        "        if num % i== 0:  \r\n",
        "               break  \r\n",
        "       else:  \r\n",
        "           print(num)  "
      ],
      "execution_count": null,
      "outputs": []
    }
  ]
}